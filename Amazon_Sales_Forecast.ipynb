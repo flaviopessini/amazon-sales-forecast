{
 "cells": [
  {
   "cell_type": "markdown",
   "id": "4675b102-b791-4a5e-b249-0723f853a3e6",
   "metadata": {},
   "source": [
    "# Estudo de caso Amazon Sales - Previsão de vendas diárias usando Prophet\n",
    "\n",
    "O dataset para este estudo foi obtido no endereço https://www.kaggle.com/datasets/karkavelrajaj/amazon-sales-dataset\n",
    "\n",
    "Usaremos o algoritimo Prophet para previsão https://facebook.github.io/prophet/docs/quick_start.html"
   ]
  },
  {
   "cell_type": "code",
   "execution_count": null,
   "id": "9b41b2f9-30ae-4988-bfd0-e8a0b79ee18e",
   "metadata": {},
   "outputs": [],
   "source": [
    "import locale\n",
    "locale.setlocale(locale.LC_NUMERIC, 'pt_BR.UTF-8')"
   ]
  },
  {
   "cell_type": "code",
   "execution_count": null,
   "id": "f188f9b7-2ca8-415a-95c0-0031e343316a",
   "metadata": {},
   "outputs": [],
   "source": [
    "import os\n",
    "import pandas as pd\n",
    "import numpy as np\n",
    "import seaborn as sns\n",
    "import matplotlib.pyplot as plt\n",
    "\n",
    "# Ignora os warnigns\n",
    "import warnings\n",
    "warnings.simplefilter(action='ignore')"
   ]
  },
  {
   "cell_type": "code",
   "execution_count": null,
   "id": "cc61462b-840e-4450-9fd8-b3abbc7957d7",
   "metadata": {},
   "outputs": [],
   "source": [
    "# Configura parâmetros do matplot\n",
    "plt.rcParams['axes.formatter.use_locale'] = True\n",
    "\n",
    "# Configura o plot com o estilo seaborn ou ggplot\n",
    "#plt.style.use('seaborn')\n",
    "#plt.style.use('ggplot')"
   ]
  },
  {
   "cell_type": "code",
   "execution_count": null,
   "id": "27cd5f07-28a2-407c-b177-3afd2c84cb9b",
   "metadata": {},
   "outputs": [],
   "source": [
    "path = os.path.join(os.getcwd())\n",
    "print(path)"
   ]
  },
  {
   "cell_type": "markdown",
   "id": "c1cd01b1-a25b-4dfc-86dd-3565de6b5d1a",
   "metadata": {},
   "source": [
    "## Carregando o dataset"
   ]
  },
  {
   "cell_type": "code",
   "execution_count": null,
   "id": "2f5c42ee-cb3d-4303-a835-ee589ea26769",
   "metadata": {},
   "outputs": [],
   "source": [
    "df = pd.read_csv('Amazon_Sale_Report.csv', sep=',', encoding='utf8', usecols=['Date', 'Amount'], parse_dates=['Date'])\n",
    "df.shape"
   ]
  },
  {
   "cell_type": "code",
   "execution_count": null,
   "id": "17323de9-4b7d-4261-b414-748e66fc2a5d",
   "metadata": {},
   "outputs": [],
   "source": [
    "df"
   ]
  },
  {
   "cell_type": "code",
   "execution_count": null,
   "id": "073396ca-0f6d-4c0a-bdb9-04f41db982ff",
   "metadata": {},
   "outputs": [],
   "source": [
    "df.info()"
   ]
  },
  {
   "cell_type": "code",
   "execution_count": null,
   "id": "0b9fb627-7798-4a38-9157-1e87556ae3aa",
   "metadata": {},
   "outputs": [],
   "source": [
    "df.describe().round()"
   ]
  },
  {
   "cell_type": "code",
   "execution_count": null,
   "id": "4e0d7dcf-604a-47a4-8d1b-ea2c579a702b",
   "metadata": {},
   "outputs": [],
   "source": [
    "df.isna().sum()"
   ]
  },
  {
   "cell_type": "code",
   "execution_count": null,
   "id": "df26f8d3-95d9-4223-84eb-ed604fa1259c",
   "metadata": {},
   "outputs": [],
   "source": [
    "print('% de dados ausentes')\n",
    "print(df.isna().sum() / len(df))"
   ]
  },
  {
   "cell_type": "markdown",
   "id": "3c541f50-6f9f-4ad3-bea4-fbf7e18aae02",
   "metadata": {},
   "source": [
    "## Limpeza e tratamento"
   ]
  },
  {
   "cell_type": "markdown",
   "id": "3fa478cb-5a2a-46ea-974a-276b148d7a6d",
   "metadata": {},
   "source": [
    "O dataset contém cerca de 6% de registros ausentes na coluna [**Amount**]. Levando em consideração que o dataset tem cerca de 128k registros, vamos apenas remover os registros ausentes para simplificar. Logo em seguida, vamos renomear as colunas."
   ]
  },
  {
   "cell_type": "code",
   "execution_count": null,
   "id": "f6b09604-e8a8-4d2f-8784-fb2eff1709ae",
   "metadata": {},
   "outputs": [],
   "source": [
    "df.dropna(inplace=True)"
   ]
  },
  {
   "cell_type": "code",
   "execution_count": null,
   "id": "96ee8325-c013-41cc-bd93-b1e56cf89a17",
   "metadata": {},
   "outputs": [],
   "source": [
    "df.shape"
   ]
  },
  {
   "cell_type": "code",
   "execution_count": null,
   "id": "49541aba-6de8-4104-b429-6dcd65cb9543",
   "metadata": {},
   "outputs": [],
   "source": [
    "# Renomear as colunas [Date] e [Amount]\n",
    "df.columns = ['Data', 'Valor']"
   ]
  },
  {
   "cell_type": "markdown",
   "id": "553bbd47-9e16-44c5-a7a3-858d742640a6",
   "metadata": {},
   "source": [
    "### Resample\n",
    "\n",
    "O dataset contém várias entradas de vendas do dia a dia. A seguir iremos fazer um redimensionamento dos dados, somando todas as vendas por dia."
   ]
  },
  {
   "cell_type": "code",
   "execution_count": null,
   "id": "87f617dc-b597-423d-9d0d-0a98c9aa36ac",
   "metadata": {},
   "outputs": [],
   "source": [
    "df2 = df.resample(on='Data', rule='D').sum()\n",
    "df2"
   ]
  },
  {
   "cell_type": "code",
   "execution_count": null,
   "id": "27f95bbb-b6e3-483d-938d-da89c8bcbaa8",
   "metadata": {},
   "outputs": [],
   "source": [
    "df2.describe().round()"
   ]
  },
  {
   "cell_type": "markdown",
   "id": "dfbf12cd-ab2f-4efb-a577-611532f7ecfc",
   "metadata": {},
   "source": [
    "### Visualizando\n",
    "\n",
    "Vamos plotar um gráfico para visualizar a soma de venda diária"
   ]
  },
  {
   "cell_type": "code",
   "execution_count": null,
   "id": "8ea9169e-d941-4513-a610-093394b02172",
   "metadata": {},
   "outputs": [],
   "source": [
    "fig = plt.figure(figsize=(12,5))\n",
    "\n",
    "plt.ticklabel_format(style='plain')\n",
    "\n",
    "sns.lineplot(x='Data', y='Valor', data=df2, ax=fig.gca())\n",
    "\n",
    "plt.title('Vendas por dia')\n",
    "plt.ylabel('Valor')\n",
    "plt.xlabel('Data')\n",
    "\n",
    "plt.tight_layout()\n",
    "plt.show()"
   ]
  },
  {
   "cell_type": "markdown",
   "id": "2b6f1782-b6e8-43ba-b9c9-2ccfe5579679",
   "metadata": {},
   "source": [
    "Abaixo, vamos plotar um gráfico do tipo *boxplot* que vai nos ajudar a identificar valores outliers nos dados."
   ]
  },
  {
   "cell_type": "code",
   "execution_count": null,
   "id": "c630d622-35ac-445a-a77b-d41811d95a05",
   "metadata": {},
   "outputs": [],
   "source": [
    "fig = plt.figure()\n",
    "\n",
    "plt.ticklabel_format(style='plain')\n",
    "\n",
    "sns.boxplot(df2, ax=fig.gca())\n",
    "\n",
    "plt.tight_layout()\n",
    "plt.show()"
   ]
  },
  {
   "cell_type": "markdown",
   "id": "a12647d1-d613-46c1-a76f-e14494c366af",
   "metadata": {},
   "source": [
    "Através do *boxplot* acima, identificamos que há apenas 2 valores outliers no dataset. A seguir vamos usar o método de cálculo do intervalo interquartil para definir um limite inferior e superior, e com esses limites definidos, vamos remover os valores fora do range."
   ]
  },
  {
   "cell_type": "code",
   "execution_count": null,
   "id": "1b01d84c-fd1b-42cf-bc90-d2fef859003e",
   "metadata": {},
   "outputs": [],
   "source": [
    "q1 = df2['Valor'].quantile(0.25)\n",
    "q3 = df2['Valor'].quantile(0.75)\n",
    "iqr = q3 - q1\n",
    "limite_inferior = q1 - (iqr * 1.5)\n",
    "limite_superior = q3 + (iqr * 1.5)\n",
    "\n",
    "print('Valor Q1:', q1)\n",
    "print('Valor Q3:', q3)\n",
    "print('Valor IQR:', iqr)\n",
    "print('Limite inferior:', limite_inferior)\n",
    "print('Limite superior:', limite_superior)\n",
    "\n",
    "outliers = df2.loc[(df2['Valor'] < limite_inferior) | (df2['Valor'] > limite_superior)]\n",
    "\n",
    "print('Outliers encontrados:', len(outliers))\n"
   ]
  },
  {
   "cell_type": "markdown",
   "id": "e04dbfb9-9bd0-49cd-bbc0-be5df761cdc1",
   "metadata": {},
   "source": [
    "### Removendo valores outliers\n",
    "\n",
    "Com os limites definidos e outliers identificados, vamos criar um novo dataframe através do *merge()*, obtendo todos os valores do dataframe principal que não estão presentes no dataframe outliers. Dessa forma, nosso novo dataframe não vai conter os valores outliers."
   ]
  },
  {
   "cell_type": "code",
   "execution_count": null,
   "id": "0817d235-6cc6-46c1-9973-5b3834b5bf55",
   "metadata": {},
   "outputs": [],
   "source": [
    "df3 = pd.merge(df2, outliers, on='Data', how='left')\n",
    "df3 = df3[df3['Valor_y'].isnull()].drop('Valor_y', axis=1).rename(columns={'Valor_x': 'Valor'})\n",
    "df3 = df3.copy()\n",
    "df3.shape"
   ]
  },
  {
   "cell_type": "code",
   "execution_count": null,
   "id": "b9669813-78d9-4f45-9aee-22253f9087cf",
   "metadata": {},
   "outputs": [],
   "source": [
    "fig = plt.figure(figsize=(12,5))\n",
    "\n",
    "plt.ticklabel_format(style='plain')\n",
    "\n",
    "sns.lineplot(x='Data', y='Valor', data=df3, ax=fig.gca())\n",
    "plt.axhline(df3['Valor'].mean(), color='orange', linestyle='--', label='Média')\n",
    "\n",
    "plt.legend()\n",
    "plt.title('Vendas sem outliers')\n",
    "plt.xlabel('Data')\n",
    "plt.ylabel('Valor')\n",
    "plt.tight_layout()\n",
    "\n",
    "plt.show()"
   ]
  },
  {
   "cell_type": "markdown",
   "id": "3c91000d-346d-4fee-928a-72cfccf53b56",
   "metadata": {},
   "source": [
    "## Realizando previsões com o Prophet\n",
    "\n",
    "A partir de agora, com nosso dataset limpo e tratado, iremos realizar o modelo de regressão utilizando o Prophet para prever vendas futuras através dos dados históricos que temos no dataset.\n",
    "\n",
    "Certifique-se de instalar a *lib* do Prophet abaixo."
   ]
  },
  {
   "cell_type": "code",
   "execution_count": null,
   "id": "5f733436-42f4-4b0d-9f19-8f6570734b0f",
   "metadata": {},
   "outputs": [],
   "source": [
    "# Instalando o Prophet\n",
    "#!pip install prophet"
   ]
  },
  {
   "cell_type": "code",
   "execution_count": null,
   "id": "75fa2a8a-988c-45b1-a79f-551694936248",
   "metadata": {},
   "outputs": [],
   "source": [
    "from prophet import Prophet\n",
    "from prophet.diagnostics import cross_validation, performance_metrics\n",
    "from prophet.plot import plot_plotly, plot_components_plotly, add_changepoints_to_plot"
   ]
  },
  {
   "cell_type": "code",
   "execution_count": null,
   "id": "78264bd7-90d2-4938-a2f3-09fa85522039",
   "metadata": {},
   "outputs": [],
   "source": [
    "# Backup do dataframe\n",
    "df4 = df3.copy().reset_index()"
   ]
  },
  {
   "cell_type": "markdown",
   "id": "e14727ef-be94-4563-94d2-4951057d4379",
   "metadata": {},
   "source": [
    "O Prophet exige que o dataframe atenda ao padrão especificado, contendo apenas 2 colunas, a primeia sendo do tipo data e a segunda coluna sendo valor numérico alvo.\n",
    "\n",
    "Também temos que renomear a coluna que contem a data para **ds** e a coluna de valor para **y**."
   ]
  },
  {
   "cell_type": "code",
   "execution_count": null,
   "id": "70ed6e66-811a-4f21-b2f1-b49b339eb8dc",
   "metadata": {},
   "outputs": [],
   "source": [
    "df4.rename(columns={'Data':'ds', 'Valor':'y'}, inplace=True)\n",
    "\n",
    "# Converte para o tipo date\n",
    "df4['ds'] = pd.to_datetime(df4['ds'].dt.date)"
   ]
  },
  {
   "cell_type": "markdown",
   "id": "b627c1b8-b18d-4af5-bc86-47685bbbefaf",
   "metadata": {},
   "source": [
    " O Prophet pode ser instanciado com a configuração padrão ou com parâmetros que podem melhorar o resultado dependendo da qualidade dos dados. Na última etapa deste estudo de caso vamos executar uma validação cruzada que vai nos devolver configurações mais adequadas de acordo com o dataset em análise.\n",
    " \n",
    " *Atenção: a execução dessa validação cruzada pode levar muito tempo para ser concluida dependendo do volume de dados e do horizonte configurado.*"
   ]
  },
  {
   "cell_type": "code",
   "execution_count": null,
   "id": "6d2d24af-68bb-45d1-a213-1ce06530fca0",
   "metadata": {},
   "outputs": [],
   "source": [
    "# Instancia um modelo padrão do Prophet\n",
    "#model = Prophet()\n",
    "\n",
    "# Instancia um modelo com parâmetros de configuração que ajudam a melhorar o resultado.\n",
    "model = Prophet(changepoint_prior_scale=0.3, seasonality_prior_scale=5.0, changepoint_range=0.5)\n",
    "\n",
    "# Treina o modelo.\n",
    "model.fit(df4)"
   ]
  },
  {
   "cell_type": "code",
   "execution_count": null,
   "id": "964afef1-f10d-42cf-8733-728fd1bbf353",
   "metadata": {},
   "outputs": [],
   "source": [
    "# Exibe os parâmetros atuais da sazonalidade atual do modelo treinado.\n",
    "model.seasonalities"
   ]
  },
  {
   "cell_type": "markdown",
   "id": "a389f204-4cd4-4cee-b118-89997f448fef",
   "metadata": {},
   "source": [
    "O modelo gerado pelo Prophet disponibiliza uma função para criar um novo dataset contendo datas futuras a partir do dataset usado no treino. Vamos utilizar essa função para gerar um período de 5 dias."
   ]
  },
  {
   "cell_type": "code",
   "execution_count": null,
   "id": "94eeaf6d-0750-413d-99ed-fa9b8d4a4f9f",
   "metadata": {},
   "outputs": [],
   "source": [
    "future = model.make_future_dataframe(periods=5, freq='D', include_history=True)\n",
    "future.tail()"
   ]
  },
  {
   "cell_type": "markdown",
   "id": "c93b4d28-af47-4076-86c4-2e898bbfd022",
   "metadata": {},
   "source": [
    "### Realizando previsões futuras\n",
    "\n",
    "Abaixo vamos usar o novo dataset contendo as datas futuras para realizar a previsão."
   ]
  },
  {
   "cell_type": "code",
   "execution_count": null,
   "id": "670acde7-ecc6-42f8-9f6b-66edeb8d93c6",
   "metadata": {},
   "outputs": [],
   "source": [
    "forecast = model.predict(future)\n",
    "forecast[['ds', 'yhat', 'yhat_lower', 'yhat_upper']].tail()"
   ]
  },
  {
   "cell_type": "markdown",
   "id": "052f10f0-c40a-4292-bff9-7f8eb60501b1",
   "metadata": {},
   "source": [
    "#### Plotando a tendência e sazonalidade identificadas pelo modelo"
   ]
  },
  {
   "cell_type": "code",
   "execution_count": null,
   "id": "bb340c6b-365a-442c-9b14-15933206bb3e",
   "metadata": {},
   "outputs": [],
   "source": [
    "model.plot_components(forecast);"
   ]
  },
  {
   "cell_type": "code",
   "execution_count": null,
   "id": "2b308394-2884-4e52-bad6-9aa1d4716178",
   "metadata": {},
   "outputs": [],
   "source": [
    "fig = plt.figure(figsize=(12,5))\n",
    "\n",
    "plt.ticklabel_format(style='plain')\n",
    "\n",
    "model.plot(forecast, ax=fig.gca())\n",
    "add_changepoints_to_plot(fig.gca(), model, forecast)\n",
    "\n",
    "plt.title('Pontos de mudança de tendência')\n",
    "plt.xlabel('Período')\n",
    "plt.ylabel('Faturamento semanal')\n",
    "\n",
    "plt.tight_layout()\n",
    "plt.show()"
   ]
  },
  {
   "cell_type": "markdown",
   "id": "637f5a3e-b464-4ae9-bfb0-70fcf130a7ff",
   "metadata": {},
   "source": [
    "#### Plotando os resultados da previsão"
   ]
  },
  {
   "cell_type": "code",
   "execution_count": null,
   "id": "c4fb540c-ecaa-4897-a37f-015fa8cbcd0e",
   "metadata": {},
   "outputs": [],
   "source": [
    "fig = plt.figure(figsize=(12,6))\n",
    "\n",
    "plt.ticklabel_format(style='plain')\n",
    "\n",
    "model.plot(forecast, ax=fig.gca());\n",
    "\n",
    "plt.title('Resultado final da previsão de vendas')\n",
    "plt.legend(['vendas', 'previsão', 'limites'])\n",
    "plt.xlabel('Período')\n",
    "plt.ylabel('Vendas')\n",
    "\n",
    "plt.tight_layout()\n",
    "plt.show()"
   ]
  },
  {
   "cell_type": "markdown",
   "id": "a1f87d94-a430-487e-857b-1deb43fd58ee",
   "metadata": {},
   "source": [
    "#### Plot dinâmico do modelo de previsão\n",
    "\n",
    "Através do pacote *plot_plotly* disponibilizado pelo Prophet, podemos plotar um gráfico dinâmico."
   ]
  },
  {
   "cell_type": "code",
   "execution_count": null,
   "id": "c5a94f2b-2a80-4936-906d-7f733e82385e",
   "metadata": {},
   "outputs": [],
   "source": [
    "plot_plotly(model, forecast, xlabel='Período', ylabel='Valor', figsize=(950,650))"
   ]
  },
  {
   "cell_type": "markdown",
   "id": "20f885bf-d2ad-4a76-99d6-dfeb67a10db4",
   "metadata": {},
   "source": [
    "## Executando Cross-Validation\n",
    "\n",
    "O validação cruzada abaixo irá realizar testes para identificar melhores parâmetros para usarmos no modelo.\n",
    "\n",
    "*Atenção: a execução dessa validação cruzada pode levar muito tempo para ser concluida dependendo do volume de dados e do horizonte configurado.*"
   ]
  },
  {
   "cell_type": "code",
   "execution_count": null,
   "id": "90521913-2597-4ea1-8b82-898d9e95ea58",
   "metadata": {
    "tags": []
   },
   "outputs": [],
   "source": [
    "import time\n",
    "import itertools\n",
    "\n",
    "start_time = time.time()\n",
    "\n",
    "param_grid = {  \n",
    "    'changepoint_prior_scale': [0.05, 0.1, 0.3, 0.5, 0.7, 0.9, 1.0],\n",
    "    'seasonality_prior_scale': [1.0, 5.0, 10.0, 15.0, 20.0, 25.0],\n",
    "    'changepoint_range': [0.5, 0.6, 0.7, 0.8, 0.9],\n",
    "}\n",
    "\n",
    "# Generate all combinations of parameters\n",
    "all_params = [dict(zip(param_grid.keys(), v)) for v in itertools.product(*param_grid.values())]\n",
    "rmses = []  # Store the RMSEs for each params here\n",
    "\n",
    "#cutoff1s = pd.to_datetime(['2021-01-01', '2022-01-01', '2023-01-01'])\n",
    "\n",
    "# Use cross validation to evaluate all parameters\n",
    "for params in all_params:\n",
    "    m = Prophet(**params).fit(df4)  # Fit model with given params\n",
    "    df_cv = cross_validation(m, horizon='5 d', parallel=\"processes\")\n",
    "    df_p = performance_metrics(df_cv, rolling_window=1)\n",
    "    rmses.append(df_p['rmse'].values[0])\n",
    "    \n",
    "# Find the best parameters\n",
    "tuning_results = pd.DataFrame(all_params)\n",
    "tuning_results['rmse'] = rmses\n",
    "print(tuning_results)\n",
    "\n",
    "end_time = time.time()"
   ]
  },
  {
   "cell_type": "code",
   "execution_count": null,
   "id": "1164dae1-46e8-41ab-ab61-b94e628dbb29",
   "metadata": {},
   "outputs": [],
   "source": [
    "total_time = end_time - start_time\n",
    "print(f\"Tempo total de execução: {total_time:.2f} segundos\")"
   ]
  },
  {
   "cell_type": "code",
   "execution_count": null,
   "id": "0d7bcbb2-a319-4282-93e8-c95b8334775e",
   "metadata": {},
   "outputs": [],
   "source": [
    "best_params = all_params[np.argmin(rmses)]\n",
    "print(best_params)"
   ]
  },
  {
   "cell_type": "markdown",
   "id": "8bf6b604-3599-4b7e-a557-795619f99322",
   "metadata": {},
   "source": [
    "# Fim"
   ]
  }
 ],
 "metadata": {
  "kernelspec": {
   "display_name": "Python 3 (ipykernel)",
   "language": "python",
   "name": "python3"
  },
  "language_info": {
   "codemirror_mode": {
    "name": "ipython",
    "version": 3
   },
   "file_extension": ".py",
   "mimetype": "text/x-python",
   "name": "python",
   "nbconvert_exporter": "python",
   "pygments_lexer": "ipython3",
   "version": "3.10.9"
  }
 },
 "nbformat": 4,
 "nbformat_minor": 5
}
